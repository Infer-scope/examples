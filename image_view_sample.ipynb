{
 "cells": [
  {
   "cell_type": "markdown",
   "id": "3cc519ec-b4eb-4d1d-9d04-f34374558000",
   "metadata": {},
   "source": [
    "# Install & setup library\n",
    "To install inferscope pythoh library just run `pip install inferscope`\n",
    "Then please visit [token page https://app.inferscope.tech/token](https://app.inferscope.tech/token) token page, and follow instructions for local token setup. Inferscope library reads token from 3 different places:\n",
    "* `~/.inferscope/token` file\n",
    "* `INFERSCOPE_TOKEN` environment variable\n",
    "* By passing it directly in client constructor\n",
    "```python\n",
    "Client(token='IS-Tok-XXXX')\n",
    "```\n",
    "\n",
    "  "
   ]
  },
  {
   "cell_type": "code",
   "execution_count": 1,
   "id": "25c5b6a8-10ff-4f80-8a17-fed7a721afe5",
   "metadata": {},
   "outputs": [],
   "source": [
    "#uncomment to install\n",
    "#!pip install inferscope "
   ]
  },
  {
   "cell_type": "code",
   "execution_count": 2,
   "id": "35e6ba39-9edb-4780-a602-19471e29d2b2",
   "metadata": {},
   "outputs": [],
   "source": [
    "from IPython.display import display, Markdown"
   ]
  },
  {
   "cell_type": "code",
   "execution_count": 3,
   "id": "b0165825-6846-4ade-be10-7adba64d8640",
   "metadata": {},
   "outputs": [],
   "source": [
    "import inferscope as infs\n",
    "import pandas as pd\n",
    "import numpy as np\n",
    "import os\n",
    "from uuid import UUID"
   ]
  },
  {
   "cell_type": "code",
   "execution_count": 4,
   "id": "60ca1a34-8294-4dc9-9b0b-214306915307",
   "metadata": {},
   "outputs": [],
   "source": [
    "from inferscope.models.data_description import (ColumnInformation, DataDescription, DataFormat, DataFormatType,\n",
    "                                                DataType, ImageSematicProperties, JoinType, SemanticType)\n",
    "from inferscope.models import ModelInfo, DatasetInfo, Metric, MetricBestValue"
   ]
  },
  {
   "cell_type": "markdown",
   "id": "9010caee-53c7-4507-b4f0-65db3330f61b",
   "metadata": {},
   "source": [
    "**Now we have everything needed for this demo imported and ready to run\n",
    "Let's create `client` and, if needed, setup `parent_project_id` if specific artifacts/runs location needed**"
   ]
  },
  {
   "cell_type": "code",
   "execution_count": 5,
   "id": "22d6c077-5b0e-4d0a-92cb-e3c8ffe64a04",
   "metadata": {},
   "outputs": [],
   "source": [
    "client = infs.Client()\n",
    "parent_project_id=UUID(\"bc2b8100-06c9-4526-8b4c-8cc7f239a0d1\")\n"
   ]
  },
  {
   "cell_type": "markdown",
   "id": "a4271704-d7db-4176-8f18-b775386ef26a",
   "metadata": {},
   "source": [
    "# Adding simple run without artifacts\n",
    "In following cell you can add simple run just to check everything works"
   ]
  },
  {
   "cell_type": "code",
   "execution_count": 6,
   "id": "4958e8ec-ddd0-4843-be69-2520c465a17b",
   "metadata": {},
   "outputs": [],
   "source": [
    "def pretty_print_run(run: infs.Run):\n",
    "    # you can look at raw data\n",
    "    # print(added_run) \n",
    "    run_link = f\"https://app.inferscope.tech/run/{run.uid}\"\n",
    "    display(Markdown(f'''You can now look at added run in UI by this [link {run_link}]({run_link})'''))"
   ]
  },
  {
   "cell_type": "code",
   "execution_count": 7,
   "id": "19de2615-461a-4544-9ca7-f72c66df13c6",
   "metadata": {},
   "outputs": [
    {
     "data": {
      "text/markdown": [
       "You can now look at added run in UI by this [link https://app.inferscope.tech/run/61c0180f-cb15-4b3a-aa36-9ad0379ec472](https://app.inferscope.tech/run/61c0180f-cb15-4b3a-aa36-9ad0379ec472)"
      ],
      "text/plain": [
       "<IPython.core.display.Markdown object>"
      ]
     },
     "metadata": {},
     "output_type": "display_data"
    }
   ],
   "source": [
    "run = infs.Run(\n",
    "    client=client,\n",
    "    # You can provide your meaningful run name, or just leave it empty\n",
    "    # name=None,\n",
    "    name=\"Example run without artifacts\",\n",
    "    metrics=[\n",
    "        Metric(name='avg_time', value=np.random.randn() * 3 + 7, best_value=\"min\"),\n",
    "        Metric(name='quality_score', value=np.random.randn() * 10, slice=\"person\", best_value=\"max\"),\n",
    "        Metric(name='quality_score', value=np.random.randn() * 10, slice=\"animals\", best_value=\"max\"),\n",
    "        \n",
    "    ],\n",
    "    model=ModelInfo(\n",
    "        name=\"some model\",\n",
    "        version=\"0.0.1\",\n",
    "        description=\"Some model produced or used in run. \"\n",
    "        \"We plan to add more sophisticated schema (produced model(s), consumed model(s)) later, if needed - contact the team.\"\n",
    "    ),\n",
    "    dataset=DatasetInfo(\n",
    "        name=\"some dataset\",\n",
    "        version=\"any string can be a version\",\n",
    "        description=\"Some dataset produced or used in this run. \"\n",
    "        \"We plan to add more sophisticated schema (produced model(s), consumed model(s)) later, if needed - contact the team.\"\n",
    "    ),\n",
    "    parent_project_uid=parent_project_id,\n",
    "    description='''# Markdown description\n",
    "Example run description. Can contain all markdown elements such as [links](https://inferscope.tech) and other.\n",
    "    '''\n",
    ")\n",
    "\n",
    "# Metric can be logged with this function\n",
    "run.log_global_metric(\n",
    "    name='quality_score',\n",
    "    value=np.random.randn() * 10,\n",
    "    best_value=\"max\"\n",
    ")\n",
    "run.commit()        \n",
    "pretty_print_run(run)"
   ]
  },
  {
   "cell_type": "markdown",
   "id": "ed758687-d431-45e1-94e5-c3b112223151",
   "metadata": {},
   "source": [
    "# Now adding our first run with artifact - externally store dataframe with links to publicly available content\n",
    "We prepared some publicly available datasets in our s3 bucket by this links:\n",
    "[https://storage.googleapis.com/inferscope_example_data/left_img_dataset.tsv](https://storage.googleapis.com/inferscope_example_data/left_img_dataset.tsv)\n",
    "[https://storage.googleapis.com/inferscope_example_data/right_img_dataset.tsv](https://storage.googleapis.com/inferscope_example_data/right_img_dataset.tsv)\n",
    "\n",
    "Those datasets contain 4 columns - `ids`, `prompts`, `generation_time`, `img_urls`\n",
    "\n",
    "First, we need to define data schema for this dataframe"
   ]
  },
  {
   "cell_type": "code",
   "execution_count": 9,
   "id": "854f38a2-9f19-4e8e-90f3-54ef49411391",
   "metadata": {},
   "outputs": [],
   "source": [
    "data_description = DataDescription(\n",
    "    data_format=DataFormat(\n",
    "        dsv_delimiter='\\t', # separator, can be any separator, behavior like in pandas.read_csv\n",
    "        data_format=DataFormatType.DSV # we support DSV, delimiter separated format or Json in each line (aka JSONEachRow)\n",
    "    ),\n",
    "    columns=[\n",
    "        ColumnInformation(name=\"ids\", type=\"integer\"),\n",
    "        ColumnInformation(name=\"generation_time\", type=\"float\", semantic=\"metric\"),\n",
    "        ColumnInformation(name=\"img_urls\", type=\"url\", semantic=\"image\"),\n",
    "        ColumnInformation(name=\"prompts\", type=\"string\"),\n",
    "    ],\n",
    ")"
   ]
  },
  {
   "cell_type": "markdown",
   "id": "58b07fc4-b4b6-48a5-b57f-4903e3157810",
   "metadata": {},
   "source": [
    "When working with external links, it's possible to skip ArtifactPack creation and pass list of `ExternalLinkArtifact` directly in `Run` constructor."
   ]
  },
  {
   "cell_type": "code",
   "execution_count": 10,
   "id": "84061b77-0b9f-4c4e-a91f-c96e3bd717ee",
   "metadata": {},
   "outputs": [
    {
     "data": {
      "text/markdown": [
       "You can now look at added run in UI by this [link https://app.inferscope.tech/run/10adb19c-3165-4d52-999d-8c2764d486db](https://app.inferscope.tech/run/10adb19c-3165-4d52-999d-8c2764d486db)"
      ],
      "text/plain": [
       "<IPython.core.display.Markdown object>"
      ]
     },
     "metadata": {},
     "output_type": "display_data"
    },
    {
     "name": "stdout",
     "output_type": "stream",
     "text": [
      "Please open 'Dataframe view' tap in ui to see the data\n"
     ]
    }
   ],
   "source": [
    "run = infs.Run(\n",
    "    client=client,\n",
    "    artifacts=[\n",
    "        infs.ExternalLinkArtifact(\n",
    "            data_description=data_description,\n",
    "            path=\"artifact\",\n",
    "            uri=f\"https://storage.googleapis.com/inferscope_example_data/left_img_dataset.tsv\",\n",
    "            semantic=\"dataframe\",\n",
    "        )\n",
    "    ],\n",
    "    dataset=DatasetInfo(name=f\"example dataset for ext_links\", version=\"0.0.1\"),\n",
    "    metrics=[\n",
    "        Metric(name=\"some_metric_name\", value=0.8),\n",
    "    ],\n",
    "    name=f'Example run with ext link artifacts'\n",
    ")\n",
    "run.commit()\n",
    "pretty_print_run(run)\n",
    "print(\"Please open 'Dataframe view' tap in ui to see the data\")"
   ]
  },
  {
   "cell_type": "markdown",
   "id": "93425399-2d63-4849-a049-e6f3118e23c6",
   "metadata": {},
   "source": [
    "# Uploading artifacts to inferscope internal storage\n",
    "We also support storing datarfames and content in our storage. We have `infs.StoredArtifactHelper` for uploading data and getting special links `iss://` that our UI & Python library can recognize and show/download their content.\n",
    "We generated some images with bing img gen and saved them in `generated_imgs` folder"
   ]
  },
  {
   "cell_type": "code",
   "execution_count": 10,
   "id": "deb31e3a-98aa-492a-a512-80a370996a83",
   "metadata": {},
   "outputs": [
    {
     "name": "stdout",
     "output_type": "stream",
     "text": [
      "adventurous-fox-knight-in-armor--a-dashing-cartoon  _right.jpg\n",
      "adventurous-fox-knight-in-armor--a-dashing-cartoon.jpg\n",
      "autumn-festival-in-a-fantasy-village--a-village-ce  _right.jpg\n",
      "autumn-festival-in-a-fantasy-village--a-village-ce.jpg\n",
      "elderly-fisherman-by-the-seaside--a-close-up-portr  _right.jpg\n",
      "elderly-fisherman-by-the-seaside--a-close-up-portr.jpg\n",
      "ethereal-underwater-market--a-bustling-underwater-  _right.jpg\n",
      "ethereal-underwater-market--a-bustling-underwater-.jpg\n",
      "floating-island-castle--a-majestic-castle-rests-at  _right.jpg\n",
      "floating-island-castle--a-majestic-castle-rests-at.jpg\n",
      "misty-alpine-forest-at-dawn--a-serene-landscape-of  _right.jpg\n",
      "misty-alpine-forest-at-dawn--a-serene-landscape-of.jpg\n",
      "panda-owl-in-a-bowl-  _right.jpg\n",
      "panda-owl-in-a-bowl-.jpg\n",
      "portrait-of-a-young-woman-with-freckles--a-close-u  _right.jpg\n",
      "portrait-of-a-young-woman-with-freckles--a-close-u.jpg\n",
      "portrait-of-a-young-woman-with-freckles--a-close-u.png\n",
      "rainbow-waterfall-with-magical-creatures--a-colorf  _right.jpg\n",
      "rainbow-waterfall-with-magical-creatures--a-colorf.jpg\n",
      "rainy-urban-street-at-night--a-photorealistic-stre  _right.jpg\n",
      "rainy-urban-street-at-night--a-photorealistic-stre.jpg\n",
      "snow-leopard-in-mountain-habitat--a-majestic-snow-  _right.jpg\n",
      "snow-leopard-in-mountain-habitat--a-majestic-snow-.jpg\n"
     ]
    }
   ],
   "source": [
    "!ls generated_imgs"
   ]
  },
  {
   "cell_type": "markdown",
   "id": "1066bca4-25d3-48b9-bea1-47d2a68b859a",
   "metadata": {},
   "source": [
    "Let's upload one of those images and use it in dataframe with it's prompt (extracted from filename)"
   ]
  },
  {
   "cell_type": "code",
   "execution_count": 12,
   "id": "d1ad4ea2-3149-4f6b-8526-331652ab94d0",
   "metadata": {},
   "outputs": [
    {
     "data": {
      "text/markdown": [
       "You can now look at added run in UI by this [link https://app.inferscope.tech/run/425564d5-fc2c-475a-ac96-918db5ee3a9a](https://app.inferscope.tech/run/425564d5-fc2c-475a-ac96-918db5ee3a9a)"
      ],
      "text/plain": [
       "<IPython.core.display.Markdown object>"
      ]
     },
     "metadata": {},
     "output_type": "display_data"
    }
   ],
   "source": [
    "local_img_path = \"generated_imgs/adventurous-fox-knight-in-armor--a-dashing-cartoon.jpg\"\n",
    "prompt = \"adventurous fox knight in armor a dashing cartoon\"\n",
    "run = infs.Run(\n",
    "    name=\"run with single image\",\n",
    "    parent_project_id=parent_project_id,\n",
    ")\n",
    "\n",
    "simpe_df = pd.DataFrame([{\n",
    "    \"ids\": 1,\n",
    "    \"img_urls\": run.log_image(\n",
    "        name=\"adventurous-fox-knight-in-armor--a-dashing-cartoon.jpg\",\n",
    "        local_path=local_img_path,\n",
    "    ), # we just put our iss:// url so artifact or diff viewer can display it properly\n",
    "    \"prompts\": prompt,\n",
    "    \"generation_time\": 1.381\n",
    "}])\n",
    "# upload_artifact can work with binary and regual strings, so let's try it\n",
    "run.add_artifact(\n",
    "    path=\"dataframe\",\n",
    "    blob=simpe_df.to_csv(sep='\\t',index=None),\n",
    "    data_description=data_description\n",
    ")\n",
    "run.commit()\n",
    "pretty_print_run(run)"
   ]
  },
  {
   "cell_type": "markdown",
   "id": "b2bb9185-613d-497a-95d4-a56360571c05",
   "metadata": {},
   "source": [
    "## Now to the most important example - multi lines example, ready for diffing!"
   ]
  },
  {
   "cell_type": "code",
   "execution_count": 12,
   "id": "c2782a06-1ad9-42bf-82e6-954d13471c2d",
   "metadata": {},
   "outputs": [
    {
     "data": {
      "text/markdown": [
       "You can now look at added run in UI by this [link https://app.inferscope.tech/run/b3cf8411-0d74-4fa7-adff-abf6d03017c8](https://app.inferscope.tech/run/b3cf8411-0d74-4fa7-adff-abf6d03017c8)"
      ],
      "text/plain": [
       "<IPython.core.display.Markdown object>"
      ]
     },
     "metadata": {},
     "output_type": "display_data"
    },
    {
     "data": {
      "text/markdown": [
       "You can now look at added run in UI by this [link https://app.inferscope.tech/run/947d7598-b8be-43ad-8188-716805193275](https://app.inferscope.tech/run/947d7598-b8be-43ad-8188-716805193275)"
      ],
      "text/plain": [
       "<IPython.core.display.Markdown object>"
      ]
     },
     "metadata": {},
     "output_type": "display_data"
    },
    {
     "data": {
      "text/markdown": [
       "\n",
       "Now you can visit UI, or just this direct url [https://app.inferscope.tech/diff_view?run_uids=947d7598-b8be-43ad-8188-716805193275,b3cf8411-0d74-4fa7-adff-abf6d03017c8](https://app.inferscope.tech/diff_view?run_uids=947d7598-b8be-43ad-8188-716805193275,b3cf8411-0d74-4fa7-adff-abf6d03017c8)\n"
      ],
      "text/plain": [
       "<IPython.core.display.Markdown object>"
      ]
     },
     "metadata": {},
     "output_type": "display_data"
    }
   ],
   "source": [
    "def gen(right=False):\n",
    "    run = infs.Run(\n",
    "        metrics=[\n",
    "            Metric(name='avg_time', value=np.random.randn() * 3 + 7, best_value=\"min\"),\n",
    "            Metric(name='quality_score', value=np.random.randn() * 10, best_value=\"max\"),\n",
    "            Metric(name='quality_score', value=np.random.randn() * 10, slice=\"person\", best_value=\"max\"),\n",
    "            Metric(name='quality_score', value=np.random.randn() * 10, slice=\"animals\", best_value=\"max\"),\n",
    "            \n",
    "        ],\n",
    "        parent_project_uid=parent_project_id,\n",
    "        description='''#Markdown description\n",
    "Example run description. Can contain all markdown elements such as [links](https://inferscope.tech), lists\n",
    "        '''\n",
    "    )\n",
    "    names = sorted(list(filter(lambda x: x.endswith('jpg') and (('_right' in x) == right),os.listdir('generated_imgs'))))\n",
    "    d = pd.DataFrame()\n",
    "    d['ids'] = [i for i in range(len(names))]\n",
    "    d['prompts'] = [' '.join(name[:-4].split('-')) for name in names]\n",
    "    d['generation_time'] = np.random.randn(len(names)) * 3 + 7\n",
    "    d['img_urls'] = [\n",
    "        run.log_image(\n",
    "            name, \n",
    "            local_path=f'generated_imgs/{name}',\n",
    "            ) for name in names\n",
    "    ]\n",
    "    run.add_artifact(\n",
    "        blob=d.to_csv(sep='\\t',index=None), \n",
    "        path='dataframe',\n",
    "        data_description=data_description,\n",
    "    )\n",
    "        \n",
    "    \n",
    "    return client.add(run)\n",
    "right_run = gen(True)\n",
    "pretty_print_run(right_run)\n",
    "left_run = gen(False)\n",
    "pretty_print_run(left_run)\n",
    "direct_diff_url = f'https://app.inferscope.tech/diff_view?run_uids={left_run.uid},{right_run.uid}'\n",
    "display(Markdown(f'''\n",
    "Now you can visit UI, or just this direct url [{direct_diff_url}]({direct_diff_url})\n",
    "'''\n",
    "))"
   ]
  },
  {
   "cell_type": "code",
   "execution_count": null,
   "id": "26a2445a-422d-4bac-bd15-a178fb85aae8",
   "metadata": {},
   "outputs": [],
   "source": []
  }
 ],
 "metadata": {
  "kernelspec": {
   "display_name": "Python 3 (ipykernel)",
   "language": "python",
   "name": "python3"
  },
  "language_info": {
   "codemirror_mode": {
    "name": "ipython",
    "version": 3
   },
   "file_extension": ".py",
   "mimetype": "text/x-python",
   "name": "python",
   "nbconvert_exporter": "python",
   "pygments_lexer": "ipython3",
   "version": "3.12.7"
  }
 },
 "nbformat": 4,
 "nbformat_minor": 5
}
